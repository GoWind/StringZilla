{
    "cells": [
        {
            "cell_type": "markdown",
            "metadata": {},
            "source": [
                "# Exploring Rabin-Karp-style Min-Hash Fingerprinting\n",
                "\n",
                "This document showcases the differences between different numeric types that one can use to implement a Rabin-Karp-style min-hash fingerprinting algorithm.\n",
                "It answers several important questions:\n",
                "\n",
                "- How to use floating-point numbers for a traditionally integer-based task - \"hashing\"?\n",
                "- How to properly compose many such hash functions to maximize the quality of fingerprints?"
            ]
        },
        {
            "cell_type": "markdown",
            "metadata": {},
            "source": [
                "## Rabin-Karp Rolling Hashing"
            ]
        },
        {
            "cell_type": "code",
            "execution_count": null,
            "metadata": {},
            "outputs": [],
            "source": [
                "from typing import Generator\n",
                "\n",
                "\n",
                "def rabin_karp_ints(\n",
                "    s: str,\n",
                "    window_width: int,\n",
                "    multiplier: int,\n",
                "    modulo: int,\n",
                "    alphabet_size: int = 256,\n",
                ") -> Generator[int, None, None]:\n",
                "    \"\"\"Return the rolling polynomial hashes of every length-`window_width` substring of `s`\"\"\"\n",
                "    \n",
                "    assert window_width > 0, \"Window width must be positive\"\n",
                "    assert multiplier > 0, \"Multiplier must be positive\"\n",
                "    assert modulo > 0, \"Modulo must be positive\"\n",
                "    assert multiplier < modulo, \"Multiplier must be less than modulo\"\n",
                "\n",
                "    if len(s) < window_width:\n",
                "        return\n",
                "\n",
                "    current_hash: int = 0\n",
                "    for char in s[:window_width]:\n",
                "        new_term = ord(char) + 1\n",
                "        assert new_term <= alphabet_size, \"Pass correct `alphabet_size`\"\n",
                "        current_hash = (current_hash * multiplier + new_term) % modulo\n",
                "    yield current_hash\n",
                "\n",
                "    discarding_multiplier: int = pow(multiplier, window_width - 1, modulo)\n",
                "    total_hashes = len(s) - window_width + 1\n",
                "    for i in range(1, total_hashes):  # First hash is already yielded\n",
                "        old_term = ord(s[i - 1]) + 1\n",
                "        new_term = ord(s[i + window_width - 1]) + 1\n",
                "        \n",
                "        # Remove leftmost char and add the new rightmost one.\n",
                "        # All operations must be modulo `modulo`, but assuming the infinite precision of integers,\n",
                "        # we don't care in this draft.\n",
                "        current_hash = (current_hash - old_term * discarding_multiplier) % modulo\n",
                "        current_hash = (current_hash * multiplier + new_term) % modulo\n",
                "        yield current_hash\n",
                "\n",
                "\n",
                "# Quick sanity-check\n",
                "assert list(rabin_karp_ints(\"abcd\", 3, 31, 1_000_000_007)) == [\n",
                "    next(rabin_karp_ints(\"abc\", 3, 31, 1_000_000_007)),\n",
                "    next(rabin_karp_ints(\"bcd\", 3, 31, 1_000_000_007)),\n",
                "]\n",
                "assert list(rabin_karp_ints(\"abcdefdhijklmnopqr\", 17, 31, 65521)) == [\n",
                "    next(rabin_karp_ints(\"abcdefdhijklmnopq\", 17, 31, 65521)),\n",
                "    next(rabin_karp_ints(\"bcdefdhijklmnopqr\", 17, 31, 65521)),\n",
                "]"
            ]
        },
        {
            "cell_type": "markdown",
            "metadata": {},
            "source": [
                "### Rabin-Karp Rolling Hashing via Floats\n",
                "\n",
                "The Python's `int` type is unbounded, so it can be used to implement the Rabin-Karp rolling hash algorithm without worrying about overflow.\n",
                "It is, however, insanely expensive to use, and doesn't allow us to explore optimization opportunities.\n",
                "The `float`, on the other hand, is just a double-precision IEEE 754 floating-point number, which can exactly represent 52-bit integers!\n",
                "Thus, we can convert our arithmetic to use `float`s, if we guarantee, that no intermediate result will exceed that limit."
            ]
        },
        {
            "cell_type": "code",
            "execution_count": 10,
            "metadata": {},
            "outputs": [],
            "source": [
                "from typing import Generator\n",
                "\n",
                "LARGEST_INTEGRAL_FLOAT: float = 4503599627370495.0\n",
                "\n",
                "def rabin_karp_floats(\n",
                "    s: str,\n",
                "    window_width: int,\n",
                "    multiplier: int,\n",
                "    modulo: int,\n",
                "    alphabet_size: int = 256,\n",
                ") -> Generator[int, None, None]:\n",
                "    \"\"\"Return the rolling polynomial hashes of every length-`window_width` substring of `s`\"\"\"\n",
                "    \n",
                "    assert window_width > 0, \"Window width must be positive\"\n",
                "    assert multiplier > 0, \"Multiplier must be positive\"\n",
                "    assert modulo > 0, \"Modulo must be positive\"\n",
                "    assert multiplier < modulo, \"Multiplier must be less than modulo\"\n",
                "\n",
                "    if len(s) < window_width:\n",
                "        return\n",
                "\n",
                "    multiplier = float(multiplier)\n",
                "    modulo = float(modulo)\n",
                "    assert modulo < LARGEST_INTEGRAL_FLOAT, \"Modulo can't exceed the largest integral float value\"\n",
                "    \n",
                "    # Ensure, we won't overflow the floating-point representation\n",
                "    largest_post_modulo = modulo - 1\n",
                "    max_possible_term = alphabet_size\n",
                "    assert largest_post_modulo * multiplier + max_possible_term <= LARGEST_INTEGRAL_FLOAT, \"Will overflow\"\n",
                "    \n",
                "    # All of the operations will happen with a modulo:\n",
                "    def mul_mod(a: float, b: float) -> float:\n",
                "        return (a * b) % modulo\n",
                "\n",
                "    def add_mod(a: float, b: float) -> float:\n",
                "        return (a + b) % modulo\n",
                "\n",
                "    def sub_mod(a: float, b: float) -> float:\n",
                "        return (a - b) % modulo\n",
                "    \n",
                "    # Precompute the discarding multiplier\n",
                "    discarding_multiplier: float = 1\n",
                "    for _ in range(window_width - 1):\n",
                "        discarding_multiplier = mul_mod(discarding_multiplier, multiplier)\n",
                "\n",
                "    # Handle the first window - without dropping any characters\n",
                "    current_hash: float = 0.0\n",
                "    for char in s[:window_width]:\n",
                "        new_term = float(ord(char) + 1)\n",
                "        assert new_term <= alphabet_size, \"Pass correct `alphabet_size`\"\n",
                "        current_hash = add_mod(mul_mod(current_hash, multiplier), new_term)\n",
                "    yield int(current_hash)\n",
                "\n",
                "    # Roll through the rest of the string\n",
                "    total_hashes = len(s) - window_width + 1\n",
                "    for i in range(1, total_hashes):  # First hash is already yielded\n",
                "        old_term = float(ord(s[i - 1]) + 1)\n",
                "        new_term = float(ord(s[i + window_width - 1]) + 1)\n",
                "        \n",
                "        # Remove leftmost char and add the new rightmost one.\n",
                "        # All operations must be modulo `modulo`, but assuming the infinite precision of integers,\n",
                "        # we don't care in this draft.\n",
                "        current_hash = sub_mod(current_hash, mul_mod(old_term, discarding_multiplier))\n",
                "        current_hash = add_mod(mul_mod(current_hash, multiplier), new_term)\n",
                "        yield int(current_hash)\n",
                "\n",
                "\n",
                "# Quick sanity-check\n",
                "assert list(rabin_karp_floats(\"abcd\", 3, 31, 1_000_000_007)) == [\n",
                "    next(rabin_karp_floats(\"abc\", 3, 31, 1_000_000_007)),\n",
                "    next(rabin_karp_floats(\"bcd\", 3, 31, 1_000_000_007)),\n",
                "]\n",
                "assert list(rabin_karp_floats(\"abcdefdhijklmnopqr\", 17, 31, 65521)) == [\n",
                "    next(rabin_karp_floats(\"abcdefdhijklmnopq\", 17, 31, 65521)),\n",
                "    next(rabin_karp_floats(\"bcdefdhijklmnopqr\", 17, 31, 65521)),\n",
                "]"
            ]
        },
        {
            "cell_type": "markdown",
            "metadata": {},
            "source": [
                "Let's load some data and ensure that the outputs are identical between the `int` and `float` implementations."
            ]
        },
        {
            "cell_type": "code",
            "execution_count": 11,
            "metadata": {},
            "outputs": [],
            "source": [
                "from pathlib import Path\n",
                "\n",
                "dataset_directory = Path(\"..\")"
            ]
        },
        {
            "cell_type": "code",
            "execution_count": 12,
            "metadata": {},
            "outputs": [],
            "source": [
                "textual_dataset_path = dataset_directory / \"leipzig1M.txt\"\n",
                "textual_dataset = open(textual_dataset_path, \"r\").read().strip()"
            ]
        },
        {
            "cell_type": "code",
            "execution_count": 13,
            "metadata": {},
            "outputs": [
                {
                    "name": "stdout",
                    "output_type": "stream",
                    "text": [
                        "Loaded 1000000 lines of mean length 128.64 characters\n"
                    ]
                }
            ],
            "source": [
                "textual_lines = textual_dataset.split(\"\\n\")\n",
                "print(f\"Loaded {len(textual_lines)} lines of mean length {sum(len(line) for line in textual_lines) / len(textual_lines):.2f} characters\")"
            ]
        },
        {
            "cell_type": "code",
            "execution_count": 16,
            "metadata": {},
            "outputs": [
                {
                    "name": "stdout",
                    "output_type": "stream",
                    "text": [
                        "Line: A rebel statement sent to Lisbon from Jamba said 86 government soldiers and 13 guerrillas were killed in the fighting that ended Jan. 3. It said the rebel forces sill held Mavinga.\n",
                        "Int Hashes:   [39214, 58636, 27178, 56589, 55578, 20249, 42817, 9257, 3408, 19872, 51144, 34335, 40889, 27513, 38487, 18584, 3184, 58010, 7771, 24162, 33155, 61759, 39219, 14922, 28769, 36392, 58327, 32414, 10374, 39320, 40408, 4077, 12114, 26399, 16417, 50534, 55902, 1252, 17344, 47927, 138, 41634, 46625, 25284, 41597, 24437, 58118, 20946, 19491, 58575, 57224, 56366, 22315, 406, 8929, 63975, 22447, 40979, 42287, 37755, 61352, 18591, 11389, 3971, 37410, 42182, 55091, 29653, 55815, 31582, 62078, 4119, 40697, 38010, 15788, 56146, 15508, 45089, 3719, 28289, 54549, 57318, 12654, 64992, 49444, 14053, 34856, 24544, 61435, 49726, 13041, 39965, 64324, 28738, 43965, 31012, 56925, 49485, 19391, 3776, 56393, 4412, 49781, 24572, 57835, 2348, 32024, 18779, 62846, 26631, 23656, 945, 58585, 55891, 53897, 21132, 16665, 21737, 62623, 454, 22855, 9117, 45384, 9409, 34465, 36913, 55815, 31574, 21275, 48366, 26797, 305, 26224, 45699, 19243, 54332, 65261, 35983, 56487, 6857, 60050, 6789, 35265, 33220, 6863, 60157, 55119, 13997, 45644, 17545, 19981, 34581, 24537, 44779, 4542, 53727, 11835, 35605, 55759, 5340, 39363, 20691, 30243, 65519]\n",
                        "Float Hashes: [39214, 58636, 27178, 56589, 55578, 20249, 42817, 9257, 3408, 19872, 51144, 34335, 40889, 27513, 38487, 18584, 3184, 58010, 7771, 24162, 33155, 61759, 39219, 14922, 28769, 36392, 58327, 32414, 10374, 39320, 40408, 4077, 12114, 26399, 16417, 50534, 55902, 1252, 17344, 47927, 138, 41634, 46625, 25284, 41597, 24437, 58118, 20946, 19491, 58575, 57224, 56366, 22315, 406, 8929, 63975, 22447, 40979, 42287, 37755, 61352, 18591, 11389, 3971, 37410, 42182, 55091, 29653, 55815, 31582, 62078, 4119, 40697, 38010, 15788, 56146, 15508, 45089, 3719, 28289, 54549, 57318, 12654, 64992, 49444, 14053, 34856, 24544, 61435, 49726, 13041, 39965, 64324, 28738, 43965, 31012, 56925, 49485, 19391, 3776, 56393, 4412, 49781, 24572, 57835, 2348, 32024, 18779, 62846, 26631, 23656, 945, 58585, 55891, 53897, 21132, 16665, 21737, 62623, 454, 22855, 9117, 45384, 9409, 34465, 36913, 55815, 31574, 21275, 48366, 26797, 305, 26224, 45699, 19243, 54332, 65261, 35983, 56487, 6857, 60050, 6789, 35265, 33220, 6863, 60157, 55119, 13997, 45644, 17545, 19981, 34581, 24537, 44779, 4542, 53727, 11835, 35605, 55759, 5340, 39363, 20691, 30243, 65519]\n",
                        "\n",
                        "Line: Authorities last week issued a vacate order for a club in Manhattan and closed another in the Bronx.\n",
                        "Int Hashes:   [56616, 8496, 5609, 2142, 9737, 36023, 3183, 21507, 36347, 1257, 43823, 27906, 57280, 64465, 54087, 18503, 8726, 52456, 16927, 5440, 42454, 18429, 25656, 62959, 31433, 36943, 35706, 63337, 23183, 41988, 12592, 41193, 15888, 55183, 52999, 26322, 54572, 58560, 24739, 42511, 7753, 3555, 49516, 28332, 5043, 9641, 33112, 43995, 31955, 29157, 30618, 12148, 41314, 40161, 953, 7989, 39435, 59952, 2449, 48837, 28335, 43449, 45280, 49106, 40138, 24215, 51320, 35257, 23146, 18179, 56150, 62473, 15078, 54576, 46181, 52002, 19372, 15630, 51213, 59148, 20381, 58969, 55320, 36145]\n",
                        "Float Hashes: [56616, 8496, 5609, 2142, 9737, 36023, 3183, 21507, 36347, 1257, 43823, 27906, 57280, 64465, 54087, 18503, 8726, 52456, 16927, 5440, 42454, 18429, 25656, 62959, 31433, 36943, 35706, 63337, 23183, 41988, 12592, 41193, 15888, 55183, 52999, 26322, 54572, 58560, 24739, 42511, 7753, 3555, 49516, 28332, 5043, 9641, 33112, 43995, 31955, 29157, 30618, 12148, 41314, 40161, 953, 7989, 39435, 59952, 2449, 48837, 28335, 43449, 45280, 49106, 40138, 24215, 51320, 35257, 23146, 18179, 56150, 62473, 15078, 54576, 46181, 52002, 19372, 15630, 51213, 59148, 20381, 58969, 55320, 36145]\n",
                        "\n"
                    ]
                }
            ],
            "source": [
                "for line in textual_lines[:2]:\n",
                "    int_hashes = list(rabin_karp_ints(line, 17, 31, 65521))\n",
                "    float_hashes = list(rabin_karp_floats(line, 17, 31, 65521))\n",
                "    assert int_hashes == float_hashes, \"Hashes do not match between int and float implementations\"\n",
                "    print(f\"Line: {line}\\nInt Hashes:   {int_hashes}\\nFloat Hashes: {float_hashes}\\n\")"
            ]
        },
        {
            "cell_type": "markdown",
            "metadata": {},
            "source": [
                "A bigger question now is, will the same hold, if we use much larger modulo values?"
            ]
        },
        {
            "cell_type": "code",
            "execution_count": 19,
            "metadata": {},
            "outputs": [
                {
                    "name": "stdout",
                    "output_type": "stream",
                    "text": [
                        "All tests passed for larger modulo values!\n"
                    ]
                }
            ],
            "source": [
                "LARGEST_MODULO_SAFE_MODULO = 4503599626977\n",
                "\n",
                "for line in textual_lines[:50]:\n",
                "    for window_width in [3, 17, 64]:\n",
                "        int_hashes = list(rabin_karp_ints(line, window_width=window_width, multiplier=257, modulo=LARGEST_MODULO_SAFE_MODULO))\n",
                "        float_hashes = list(rabin_karp_floats(line, window_width=window_width, multiplier=257, modulo=LARGEST_MODULO_SAFE_MODULO))\n",
                "        assert int_hashes == float_hashes, \"Hashes do not match between int and float implementations\"\n",
                "\n",
                "print(\"All tests passed for larger modulo values!\")"
            ]
        },
        {
            "cell_type": "markdown",
            "metadata": {},
            "source": [
                "### Rabin-Karp Rolling Hashing via FMAs\n",
                "\n",
                "- How aggressively can we use **FMA** (Fused Multiply-Add) operations to optimize the algorithm?\n",
                "- How many of the modulo operations can we avoid?\n",
                "- How can we simplify the `%` modulo operation?"
            ]
        },
        {
            "cell_type": "code",
            "execution_count": null,
            "metadata": {},
            "outputs": [],
            "source": [
                "from typing import Generator\n",
                "\n",
                "LARGEST_INTEGRAL_FLOAT: float = 4503599627370495.0\n",
                "\n",
                "def rabin_karp_fma(\n",
                "    s: str,\n",
                "    window_width: int,\n",
                "    multiplier: int,\n",
                "    modulo: int,\n",
                "    alphabet_size: int = 256,\n",
                ") -> Generator[int, None, None]:\n",
                "    \"\"\"Return the rolling polynomial hashes of every length-`window_width` substring of `s`\"\"\"\n",
                "    \n",
                "    assert window_width > 0, \"Window width must be positive\"\n",
                "    assert multiplier > 0, \"Multiplier must be positive\"\n",
                "    assert modulo > 0, \"Modulo must be positive\"\n",
                "    assert multiplier < modulo, \"Multiplier must be less than modulo\"\n",
                "\n",
                "    if len(s) < window_width:\n",
                "        return\n",
                "\n",
                "    multiplier = float(multiplier)\n",
                "    modulo = float(modulo)\n",
                "    assert modulo < LARGEST_INTEGRAL_FLOAT, \"Modulo can't exceed the largest integral float value\"\n",
                "    \n",
                "    # Ensure, we won't overflow the floating-point representation\n",
                "    largest_post_modulo = modulo - 1\n",
                "    max_possible_term = alphabet_size\n",
                "    assert largest_post_modulo * multiplier + max_possible_term <= LARGEST_INTEGRAL_FLOAT, \"Will overflow\"\n",
                "    \n",
                "    ..."
            ]
        },
        {
            "cell_type": "markdown",
            "metadata": {},
            "source": [
                "## Min-Hash Fingerprinting"
            ]
        },
        {
            "cell_type": "code",
            "execution_count": null,
            "metadata": {},
            "outputs": [],
            "source": [
                "from typing import List\n",
                "\n",
                "def min_hash(rolling_hashes: List[np.ndarray]) -> np.ndarray:\n",
                "    ...\n"
            ]
        },
        {
            "cell_type": "code",
            "execution_count": 5,
            "metadata": {},
            "outputs": [],
            "source": [
                "def hamming_distance(a: np.ndarray, b: np.ndarray) -> int:\n",
                "    \"\"\"Return the Hamming distance between two arrays of the same length.\"\"\"\n",
                "    if len(a) != len(b):\n",
                "        raise ValueError(\"Arrays must be of the same length\")\n",
                "    return np.sum(a != b)"
            ]
        },
        {
            "cell_type": "code",
            "execution_count": 9,
            "metadata": {},
            "outputs": [],
            "source": [
                "dna_dataset_path = dataset_directory / \"acgt_10k.txt\"\n",
                "dna_dataset = open(dna_dataset_path, \"r\").read().strip()"
            ]
        },
        {
            "cell_type": "code",
            "execution_count": 10,
            "metadata": {},
            "outputs": [],
            "source": [
                "window_widths = [3, 4, 8, 16, 32]\n",
                "precision_levels = [np.uint8, np.uint16, np.uint32, np.uint64]\n",
                "modulo_per_precision = [251, 65521, 2**31 - 1, 2**63 - 1]"
            ]
        },
        {
            "cell_type": "code",
            "execution_count": null,
            "metadata": {},
            "outputs": [],
            "source": [
                "for window_width in window_widths:\n",
                "    for precision, modulo in zip(precision_levels, modulo_per_precision):\n",
                "        print(\n",
                "            f\"Window width: {window_width}, Precision: {precision}, Modulo: {modulo}\"\n",
                "        )\n",
                "        \n",
                "        # Textual dataset\n",
                "        textual_hashes = rolling_hashes(\n",
                "            textual_dataset, window_width, 31, modulo, dtype=precision\n",
                "        )\n",
                "        print(f\"Textual hashes: {textual_hashes[:10]}...\")"
            ]
        }
    ],
    "metadata": {
        "kernelspec": {
            "display_name": "StringZilla",
            "language": "python",
            "name": "python3"
        },
        "language_info": {
            "codemirror_mode": {
                "name": "ipython",
                "version": 3
            },
            "file_extension": ".py",
            "mimetype": "text/x-python",
            "name": "python",
            "nbconvert_exporter": "python",
            "pygments_lexer": "ipython3",
            "version": "3.11.11"
        }
    },
    "nbformat": 4,
    "nbformat_minor": 2
}
