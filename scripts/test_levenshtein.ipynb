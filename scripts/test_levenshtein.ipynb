{
 "cells": [
  {
   "cell_type": "markdown",
   "metadata": {},
   "source": [
    "# Exploring the Impact of Evaluation Order on Edit Distance Algorithms\n",
    "\n",
    "Removing data-dependencies in the Wagner-Fisher, Needleman-Wunsch, Smith-Waterman, and Gotoh Dynamic Programming algorithms to explain the hardware-accelerated variants in StringZilla."
   ]
  },
  {
   "cell_type": "markdown",
   "metadata": {},
   "source": [
    "## Levenshtein Distance\n",
    "\n",
    "Levenshtein edit distance is one of the most broadly studied string similarity metrics.\n",
    "It is defined as the minimum number of single-character insertions, deletions, and substitutions required to change one string into another.\n",
    "The Levenshtein distance between two strings is calculated using dynamic programming algorithms, such as the Wagner-Fisher algorithm, and its variations for Bioinformatics: \n",
    "\n",
    "- Needleman-Wunsch for global alignment with substitution matrices, \n",
    "- Smith-Waterman for local alignment with substitution matrices, \n",
    "- Gotoh for different penalties for gap opening and extensions.\n",
    "\n",
    "Given the shared nature of these algorithms, the same tricks can be applied to all of them to improve their performance."
   ]
  },
  {
   "cell_type": "markdown",
   "metadata": {},
   "source": [
    "## Warner-Fisher Algorithm\n",
    "\n",
    "Wagner-Fisher algorithm, in its most naive form, has a time and space complexity of $O(NM)$, where $N$ and $M$ are the lengths of the two strings being compared.\n",
    "A rectangular matrix of size $(N+1) \\times (M+1)$ is created to store the edit distances between all prefixes of the two strings.\n",
    "The first row and column are, naturally, initialized with ${0, 1, 2, ..., N}$ and ${0, 1, 2, ..., M}$ respectively."
   ]
  },
  {
   "cell_type": "code",
   "execution_count": 1,
   "metadata": {},
   "outputs": [],
   "source": [
    "from typing import Tuple\n",
    "import numpy as np # NumPy for matrices\n",
    "\n",
    "def wagner_fisher(s1: str, s2: str) -> Tuple[int, np.ndarray]:\n",
    "    # Create a matrix of size (len(s1)+1) x (len(s2)+1)\n",
    "    matrix = np.zeros((len(s1) + 1, len(s2) + 1), dtype=int)\n",
    "\n",
    "    # Initialize the first column and first row of the matrix\n",
    "    for i in range(len(s1) + 1):\n",
    "        matrix[i, 0] = i\n",
    "    for j in range(len(s2) + 1):\n",
    "        matrix[0, j] = j\n",
    "\n",
    "    # Compute Levenshtein distance\n",
    "    for i in range(1, len(s1) + 1):\n",
    "        for j in range(1, len(s2) + 1):\n",
    "            substitution_cost = s1[i - 1] != s2[j - 1]\n",
    "            matrix[i, j] = min(\n",
    "                matrix[i - 1, j] + 1,                      #? Deletion cost\n",
    "                matrix[i, j - 1] + 1,                      #? Insertion cost\n",
    "                matrix[i - 1, j - 1] + substitution_cost,  #? Substitution cost\n",
    "            )\n",
    "\n",
    "    # The distance will be placed in the bottom right corner of the matrix\n",
    "    return matrix[len(s1), len(s2)], matrix"
   ]
  },
  {
   "cell_type": "markdown",
   "metadata": {},
   "source": [
    "This algorithm is almost never recommended for practical use, as it has a quadratic space complexity.\n",
    "It's trivial to see that the space complexity can be reduced to $O(min(N, M))$ by only storing the last two rows of the matrix, but we want to keep the entire matrix as a reference to allow debugging and visualization."
   ]
  },
  {
   "cell_type": "markdown",
   "metadata": {},
   "source": [
    "## Diagonal Evaluation Order\n",
    "\n",
    "Accelerating this exact algorithm with SIMD instructions isn't trivial, is the `matrix[i, j]` value has a dependency on the `matrix[i, j - 1]` value.\n",
    "So we can't brute-force accelerate the inner loop.\n",
    "Instead, we can show that we can evaluate the matrix in a different order, and still get the same result.\n",
    "\n",
    "![Skewed Diagonals Evaluation Order](https://mathworld.wolfram.com/images/eps-svg/SkewDiagonal_1000.svg)\n",
    "\n",
    "But before complicating things too much, let's start with a simple case - when both strings have identical lengths and the DP matrix has a square shape."
   ]
  },
  {
   "cell_type": "code",
   "execution_count": 2,
   "metadata": {},
   "outputs": [],
   "source": [
    "def square_skewed_diagonals(s1: str, s2: str, verbose: bool = False) -> Tuple[int, np.ndarray]:\n",
    "    assert len(s1) == len(s2), \"First define an algo for square matrices!\"\n",
    "    # Create a matrix of size (len(s1)+1) x (len(s2)+1)\n",
    "    matrix = np.zeros((len(s1) + 1, len(s2) + 1), dtype=int)\n",
    "    matrix[:, :] = 99\n",
    "\n",
    "    # Initialize the first column and first row of the matrix\n",
    "    for i in range(len(s1) + 1):\n",
    "        matrix[i, 0] = i\n",
    "    for j in range(len(s2) + 1):\n",
    "        matrix[0, j] = j\n",
    "\n",
    "    # Number of rows and columns in the square matrix.\n",
    "    n = len(s1) + 1\n",
    "    \n",
    "    # Number of diagonals and skewed diagonals in the square matrix of size (n x n).\n",
    "    skew_diagonals_count = 2 * n - 1\n",
    "    \n",
    "    # Populate the matrix in 2 separate loops: for the top left triangle and for the bottom right triangle.\n",
    "    for skew_diagonal_idx in range(2, n):\n",
    "        skew_diagonal_length = skew_diagonal_idx + 1\n",
    "        for offset_within_skew_diagonal in range(1, skew_diagonal_length - 1):\n",
    "            # If we haven't passed the main skew diagonal yet, \n",
    "            # then we have to skip the first and the last operation,\n",
    "            # as those are already pre-populated and form the first column \n",
    "            # and the first row of the Levenshtein matrix respectively.\n",
    "            i = skew_diagonal_idx - offset_within_skew_diagonal\n",
    "            j = offset_within_skew_diagonal\n",
    "            if verbose:\n",
    "                print(f\"top left triangle: {skew_diagonal_idx=}, {skew_diagonal_length=}, {i=}, {j=}\")\n",
    "            substitution_cost = s1[i - 1] != s2[j - 1]\n",
    "            matrix[i, j] = min(\n",
    "                matrix[i - 1, j] + 1,                      #? Deletion cost\n",
    "                matrix[i, j - 1] + 1,                      #? Insertion cost\n",
    "                matrix[i - 1, j - 1] + substitution_cost,  #? Substitution cost\n",
    "            )\n",
    "            \n",
    "    # Now the bottom right triangle of the matrix.\n",
    "    for skew_diagonal_idx in range(n, skew_diagonals_count):\n",
    "        skew_diagonal_length = 2*n - skew_diagonal_idx - 1\n",
    "        for offset_within_skew_diagonal in range(skew_diagonal_length):\n",
    "            i = n - offset_within_skew_diagonal - 1\n",
    "            j = skew_diagonal_idx - n + offset_within_skew_diagonal + 1\n",
    "            if verbose:\n",
    "                print(f\"bottom right triangle: {skew_diagonal_idx=}, {skew_diagonal_length=}, {i=}, {j=}\")\n",
    "            substitution_cost = s1[i - 1] != s2[j - 1]\n",
    "            matrix[i, j] = min(\n",
    "                matrix[i - 1, j] + 1,                      #? Deletion cost\n",
    "                matrix[i, j - 1] + 1,                      #? Insertion cost\n",
    "                matrix[i - 1, j - 1] + substitution_cost,  #? Substitution cost\n",
    "            )\n",
    "\n",
    "    # Similarly, the distance will be placed in the bottom right corner of the matrix\n",
    "    return matrix[len(s1), len(s2)], matrix"
   ]
  },
  {
   "cell_type": "markdown",
   "metadata": {},
   "source": [
    "Let's generate some random strings and make sure we produce the right result."
   ]
  },
  {
   "cell_type": "code",
   "execution_count": 3,
   "metadata": {},
   "outputs": [],
   "source": [
    "import random\n",
    "for _ in range(10):\n",
    "    s1 = ''.join(random.choices(\"ab\", k=50))\n",
    "    s2 = ''.join(random.choices(\"ab\", k=50))\n",
    "    d0, _ = wagner_fisher(s1, s2)\n",
    "    d1, _ = square_skewed_diagonals(s1, s2)\n",
    "    assert d0 == d1"
   ]
  },
  {
   "cell_type": "markdown",
   "metadata": {},
   "source": [
    "Going further, we can avoid storing the whole matrix, and only store two diagonals at a time.\n",
    "The longer will never exceed N. The shorter one is always at most N-1, and is always shorter by one."
   ]
  },
  {
   "cell_type": "code",
   "execution_count": 4,
   "metadata": {},
   "outputs": [
    {
     "data": {
      "text/plain": [
       "('listen',\n",
       " 'silent',\n",
       " 'distance = np.int64(4)',\n",
       " array([[0, 1, 2, 3, 4, 5, 6],\n",
       "        [1, 1, 2, 2, 3, 4, 5],\n",
       "        [2, 2, 1, 2, 3, 4, 5],\n",
       "        [3, 2, 2, 2, 3, 4, 5],\n",
       "        [4, 3, 3, 3, 3, 4, 4],\n",
       "        [5, 4, 4, 4, 3, 4, 5],\n",
       "        [6, 5, 5, 5, 4, 3, 4]]))"
      ]
     },
     "execution_count": 4,
     "metadata": {},
     "output_type": "execute_result"
    }
   ],
   "source": [
    "s1 = \"listen\"\n",
    "s2 = \"silent\"\n",
    "# s1 = ''.join(random.choices(\"abcd\", k=100))\n",
    "# s2 = ''.join(random.choices(\"abcd\", k=100))\n",
    "distance, baseline = wagner_fisher(s1, s2)\n",
    "s1, s2, f\"{distance = }\", baseline"
   ]
  },
  {
   "cell_type": "code",
   "execution_count": 5,
   "metadata": {},
   "outputs": [
    {
     "data": {
      "text/plain": [
       "(array([0, 0, 0, 0, 0, 0, 0], dtype=uint64),\n",
       " array([1, 1, 0, 0, 0, 0, 0], dtype=uint64),\n",
       " array([0, 0, 0, 0, 0, 0, 0], dtype=uint64))"
      ]
     },
     "execution_count": 5,
     "metadata": {},
     "output_type": "execute_result"
    }
   ],
   "source": [
    "assert len(s1) == len(s2), \"First define an algo for square matrices!\"\n",
    "# Number of rows and columns in the square matrix.\n",
    "n = len(s1) + 1\n",
    "\n",
    "# Let's use just a couple of arrays to store the previous skew diagonals.\n",
    "# Let's imagine that our Levenshtein matrix is gonna have 5x5 size for two words of length 4.\n",
    "#         B C D E << s2 characters: BCDE\n",
    "#     + ---------\n",
    "#     | a b c d e\n",
    "#   F | f g h i j\n",
    "#   K | k l m n o\n",
    "#   P | p q r s t\n",
    "#   U | u v w x y\n",
    "#   ^\n",
    "#   ^ s1 characters: FKPU\n",
    "following = np.zeros(n, dtype=np.uint) # let's assume we are computing the main skew diagonal: [u, q, m, i, e]\n",
    "current = np.zeros(n, dtype=np.uint) # will contain: [p, l, h, e]\n",
    "previous = np.zeros(n, dtype=np.uint) # will contain: [k, g, c]\n",
    "\n",
    "# Initialize the first two diagonals.\n",
    "# The `previous` would contain the values [a].\n",
    "# The `current` would contain the values [f, b]. \n",
    "previous[0] = 0\n",
    "current[0:2] = 1\n",
    "previous, current, following"
   ]
  },
  {
   "cell_type": "markdown",
   "metadata": {},
   "source": [
    "To feel safer, while designing our alternative traversal algorithm, let's define an extraction function, that will get the values of a certain skewed diagonal."
   ]
  },
  {
   "cell_type": "code",
   "execution_count": 6,
   "metadata": {},
   "outputs": [],
   "source": [
    "def get_skewed_diagonal(matrix: np.ndarray, index: int):\n",
    "    flipped_matrix = np.fliplr(matrix)\n",
    "    return np.flip(np.diag(flipped_matrix, k= matrix.shape[1] - index - 1))"
   ]
  },
  {
   "cell_type": "code",
   "execution_count": 7,
   "metadata": {},
   "outputs": [],
   "source": [
    "matrix = np.array([[1, 2, 3],\n",
    "                   [4, 5, 6],\n",
    "                   [7, 8, 9]])\n",
    "assert np.all(get_skewed_diagonal(matrix, 2) == [7, 5, 3])\n",
    "assert np.all(get_skewed_diagonal(matrix, 1) == [4, 2])\n",
    "assert np.all(get_skewed_diagonal(matrix, 4) == [9])"
   ]
  },
  {
   "cell_type": "code",
   "execution_count": 8,
   "metadata": {},
   "outputs": [
    {
     "data": {
      "text/plain": [
       "(array([5, 3, 2, 2, 3, 5, 0], dtype=uint64),\n",
       " array([6, 4, 3, 2, 3, 4, 6], dtype=uint64),\n",
       " array([6, 4, 3, 2, 3, 4, 6], dtype=uint64))"
      ]
     },
     "execution_count": 8,
     "metadata": {},
     "output_type": "execute_result"
    }
   ],
   "source": [
    "# To evaluate every subsequent entry:\n",
    "following_skew_diagonal_idx = 2\n",
    "while following_skew_diagonal_idx < n:\n",
    "    following_skew_diagonal_length = following_skew_diagonal_idx + 1\n",
    "\n",
    "    old_substitution_costs = previous[:following_skew_diagonal_length - 2]\n",
    "    added_substitution_costs = [s1[following_skew_diagonal_idx - i - 2] != s2[i] for i in range(following_skew_diagonal_length - 2)]\n",
    "    substitution_costs = old_substitution_costs + added_substitution_costs\n",
    "\n",
    "    following[1:following_skew_diagonal_length-1] = np.minimum(current[1:following_skew_diagonal_length-1] + 1, current[:following_skew_diagonal_length-2] + 1) # Insertions or deletions\n",
    "    following[1:following_skew_diagonal_length-1] = np.minimum(following[1:following_skew_diagonal_length-1], substitution_costs) # Substitutions\n",
    "    following[0] = following_skew_diagonal_idx\n",
    "    following[following_skew_diagonal_length-1] = following_skew_diagonal_idx\n",
    "    assert np.all(following[:following_skew_diagonal_length] == get_skewed_diagonal(baseline, following_skew_diagonal_idx))\n",
    "    \n",
    "    previous[:] = current[:]\n",
    "    current[:] = following[:]\n",
    "    following_skew_diagonal_idx += 1\n",
    "\n",
    "previous, current, following # Log the state"
   ]
  },
  {
   "cell_type": "markdown",
   "metadata": {},
   "source": [
    "By now we've scanned through the upper triangle of the matrix, where each subsequent iteration results in a larger diagonal. From now onwards, we will be shrinking. Instead of adding value equal to the skewed diagonal index on either side, we will be cropping those values out."
   ]
  },
  {
   "cell_type": "code",
   "execution_count": 9,
   "metadata": {},
   "outputs": [
    {
     "data": {
      "text/plain": [
       "(array([5, 4, 5, 5, 5, 6, 0], dtype=uint64),\n",
       " array([4, 5, 4, 5, 5, 5, 6], dtype=uint64),\n",
       " array([4, 5, 4, 5, 5, 5, 6], dtype=uint64))"
      ]
     },
     "execution_count": 9,
     "metadata": {},
     "output_type": "execute_result"
    }
   ],
   "source": [
    "while following_skew_diagonal_idx < 2 * n - 1:\n",
    "    following_skew_diagonal_length = 2 * n - 1 - following_skew_diagonal_idx\n",
    "    old_substitution_costs = previous[:following_skew_diagonal_length]\n",
    "    added_substitution_costs = [s1[len(s1) - i - 1] != s2[following_skew_diagonal_idx - n + i] for i in range(following_skew_diagonal_length)]\n",
    "    substitution_costs = old_substitution_costs + added_substitution_costs\n",
    "    \n",
    "    following[:following_skew_diagonal_length] = np.minimum(current[:following_skew_diagonal_length] + 1, current[1:following_skew_diagonal_length+1] + 1) # Insertions or deletions\n",
    "    following[:following_skew_diagonal_length] = np.minimum(following[:following_skew_diagonal_length], substitution_costs) # Substitutions\n",
    "    assert np.all(following[:following_skew_diagonal_length] == get_skewed_diagonal(baseline, following_skew_diagonal_idx)), f\"\\n{following[:following_skew_diagonal_length]} not equal to \\n{get_skewed_diagonal(baseline, following_skew_diagonal_idx)}\"\n",
    "    \n",
    "    previous[:following_skew_diagonal_length] = current[1:following_skew_diagonal_length+1]\n",
    "    current[:following_skew_diagonal_length] = following[:following_skew_diagonal_length]\n",
    "    following_skew_diagonal_idx += 1\n",
    "\n",
    "previous, current, following # Log the state"
   ]
  },
  {
   "cell_type": "code",
   "execution_count": 10,
   "metadata": {},
   "outputs": [],
   "source": [
    "assert distance == following[0], f\"{distance = } != {following[0] = }\""
   ]
  },
  {
   "cell_type": "markdown",
   "metadata": {},
   "source": [
    "## Generalizing to Non-Square Matrices"
   ]
  },
  {
   "cell_type": "code",
   "execution_count": 11,
   "metadata": {},
   "outputs": [],
   "source": [
    "def skewed_diagonals(s1, s2, verbose: bool = False) -> int:\n",
    "    shorter, longer = (s1, s2) if len(s1) < len(s2) else (s2, s1)    \n",
    "    shorter_dim = len(shorter) + 1\n",
    "    longer_dim = len(longer) + 1\n",
    "    # Create a matrix of size (len(s1)+1) x (len(s2)+1)\n",
    "    matrix = np.zeros((len(shorter) + 1, len(longer) + 1), dtype=int)\n",
    "    matrix[:, :] = 99\n",
    "\n",
    "    # Initialize the first column and first row of the matrix\n",
    "    for i in range(shorter_dim):\n",
    "        matrix[i, 0] = i\n",
    "    for j in range(longer_dim):\n",
    "        matrix[0, j] = j\n",
    "\n",
    "    # Let's say we are dealing with 6 and 9 letter words.\n",
    "    # The matrix will have size 7 x 10, parameterized as (shorter_dim x longer_dim).\n",
    "    # It will have:\n",
    "    # - 8 diagonals of increasing length, at positions: 0, 1, 2, 3, 4, 5, 6, 7.\n",
    "    # - 2 diagonals of fixed length, at positions: 8, 9.\n",
    "    # - 8 diagonals of decreasing length, at positions: 10, 11, 12, 13, 14, 15, 16, 17.\n",
    "    skew_diagonals_count = 2 * longer_dim - 1\n",
    "\n",
    "    # Same as with square matrices, the 0th diagonal contains - just one element - zero - skipping it.\n",
    "    # Same as with square matrices, the 1st diagonal contains the values 1 and 1 - skipping it.\n",
    "    # Now let's handle the rest of the upper triangle.\n",
    "    for skew_diagonal_idx in range(2, shorter_dim + 1):\n",
    "        skew_diagonal_length = (skew_diagonal_idx + 1)\n",
    "        for offset_within_skew_diagonal in range(1, skew_diagonal_length-1): #! Skip the first column & row\n",
    "            # If we haven't passed the main skew diagonal yet, \n",
    "            # then we have to skip the first and the last operation,\n",
    "            # as those are already pre-populated and form the first column \n",
    "            # and the first row of the Levenshtein matrix respectively.\n",
    "            i = skew_diagonal_idx - offset_within_skew_diagonal\n",
    "            j = offset_within_skew_diagonal\n",
    "            if verbose:\n",
    "                print(f\"top left triangle: {skew_diagonal_idx=}, {skew_diagonal_length=}, {i=}, {j=}\")\n",
    "            shorter_char = shorter[i - 1]\n",
    "            longer_char = longer[j - 1]\n",
    "            substitution_cost = shorter_char != longer_char\n",
    "            matrix[i, j] = min(\n",
    "                matrix[i - 1, j] + 1,  # Deletion\n",
    "                matrix[i, j - 1] + 1,  # Insertion\n",
    "                matrix[i - 1, j - 1] + substitution_cost,  # Substitution\n",
    "            )\n",
    "            \n",
    "    # Now let's handle the anti-diagonal band of the matrix, between the top and bottom triangles.        \n",
    "    for skew_diagonal_idx in range(shorter_dim + 1, longer_dim + 1):\n",
    "        skew_diagonal_length = shorter_dim\n",
    "        for offset_within_skew_diagonal in range(skew_diagonal_length):\n",
    "            i = shorter_dim - offset_within_skew_diagonal - 1\n",
    "            j = offset_within_skew_diagonal + 1\n",
    "            if verbose:\n",
    "                print(f\"anti-band: {skew_diagonal_idx=}, {skew_diagonal_length=}, {i=}, {j=}\")\n",
    "            shorter_char = shorter[i - 1]\n",
    "            longer_char = longer[j - 1]\n",
    "            substitution_cost = shorter_char != longer_char\n",
    "            matrix[i, j] = min(\n",
    "                matrix[i - 1, j] + 1,  # Deletion\n",
    "                matrix[i, j - 1] + 1,  # Insertion\n",
    "                matrix[i - 1, j - 1] + substitution_cost,  # Substitution\n",
    "            )\n",
    "    \n",
    "    # Now let's handle the bottom right triangle.\n",
    "    for skew_diagonal_idx in range(longer_dim + 1, skew_diagonals_count):\n",
    "        skew_diagonal_length = 2 * longer_dim - skew_diagonal_idx - 1\n",
    "        for offset_within_skew_diagonal in range(skew_diagonal_length):\n",
    "            i = shorter_dim - offset_within_skew_diagonal - 1\n",
    "            j = skew_diagonal_idx - longer_dim + offset_within_skew_diagonal + 1\n",
    "            if verbose:\n",
    "                print(f\"bottom right triangle: {skew_diagonal_idx=}, {skew_diagonal_length=}, {i=}, {j=}\")\n",
    "            shorter_char = shorter[i - 1]\n",
    "            longer_char = longer[j - 1]\n",
    "            substitution_cost = shorter_char != longer_char\n",
    "            matrix[i, j] = min(\n",
    "                matrix[i - 1, j] + 1,  # Deletion\n",
    "                matrix[i, j - 1] + 1,  # Insertion\n",
    "                matrix[i - 1, j - 1] + substitution_cost,  # Substitution\n",
    "            )\n",
    "\n",
    "    # Return the Levenshtein distance\n",
    "    return matrix[len(shorter), len(longer)], matrix"
   ]
  },
  {
   "cell_type": "code",
   "execution_count": 12,
   "metadata": {},
   "outputs": [
    {
     "data": {
      "text/plain": [
       "('listeners',\n",
       " 'silents',\n",
       " 'distance = np.int64(5)',\n",
       " array([[0, 1, 2, 3, 4, 5, 6, 7, 8, 9],\n",
       "        [1, 1, 2, 2, 3, 4, 5, 6, 7, 8],\n",
       "        [2, 2, 1, 2, 3, 4, 5, 6, 7, 8],\n",
       "        [3, 2, 2, 2, 3, 4, 5, 6, 7, 8],\n",
       "        [4, 3, 3, 3, 3, 3, 4, 5, 6, 7],\n",
       "        [5, 4, 4, 4, 4, 4, 3, 4, 5, 6],\n",
       "        [6, 5, 5, 5, 4, 5, 4, 4, 5, 6],\n",
       "        [7, 6, 6, 5, 5, 5, 5, 5, 5, 5]]))"
      ]
     },
     "execution_count": 12,
     "metadata": {},
     "output_type": "execute_result"
    }
   ],
   "source": [
    "s1 = \"listeners\"\n",
    "s2 = \"silents\"\n",
    "distance, baseline = skewed_diagonals(s1, s2)\n",
    "s1, s2, f\"{distance = }\", baseline"
   ]
  },
  {
   "cell_type": "code",
   "execution_count": 13,
   "metadata": {},
   "outputs": [
    {
     "data": {
      "text/plain": [
       "('listeners',\n",
       " 'silents',\n",
       " 'distance = np.int64(5)',\n",
       " array([[0, 1, 2, 3, 4, 5, 6, 7],\n",
       "        [1, 1, 2, 2, 3, 4, 5, 6],\n",
       "        [2, 2, 1, 2, 3, 4, 5, 6],\n",
       "        [3, 2, 2, 2, 3, 4, 5, 5],\n",
       "        [4, 3, 3, 3, 3, 4, 4, 5],\n",
       "        [5, 4, 4, 4, 3, 4, 5, 5],\n",
       "        [6, 5, 5, 5, 4, 3, 4, 5],\n",
       "        [7, 6, 6, 6, 5, 4, 4, 5],\n",
       "        [8, 7, 7, 7, 6, 5, 5, 5],\n",
       "        [9, 8, 8, 8, 7, 6, 6, 5]]))"
      ]
     },
     "execution_count": 13,
     "metadata": {},
     "output_type": "execute_result"
    }
   ],
   "source": [
    "distance, baseline = wagner_fisher(s1, s2)\n",
    "s1, s2, f\"{distance = }\", baseline"
   ]
  },
  {
   "cell_type": "code",
   "execution_count": 14,
   "metadata": {},
   "outputs": [],
   "source": [
    "s1 = ''.join(random.choices(\"abcd\", k=5))\n",
    "s2 = ''.join(random.choices(\"abcd\", k=6))\n",
    "distance_v0, baseline_v0 = wagner_fisher(s1, s2)\n",
    "distance_v2, baseline_v2 = skewed_diagonals(s1, s2, verbose=False)\n",
    "assert distance_v0 == distance_v2, f\"{distance_v0 = } != {distance_v2 = }\"\n",
    "assert np.all(baseline_v0 == baseline_v2), f\"{baseline_v0 = }\\n{baseline_v2 = }\""
   ]
  },
  {
   "cell_type": "code",
   "execution_count": null,
   "metadata": {},
   "outputs": [],
   "source": []
  }
 ],
 "metadata": {
  "kernelspec": {
   "display_name": "base",
   "language": "python",
   "name": "python3"
  },
  "language_info": {
   "codemirror_mode": {
    "name": "ipython",
    "version": 3
   },
   "file_extension": ".py",
   "mimetype": "text/x-python",
   "name": "python",
   "nbconvert_exporter": "python",
   "pygments_lexer": "ipython3",
   "version": "3.12.2"
  }
 },
 "nbformat": 4,
 "nbformat_minor": 2
}
